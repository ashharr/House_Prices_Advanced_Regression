{
 "cells": [
  {
   "cell_type": "code",
   "execution_count": 4,
   "metadata": {},
   "outputs": [],
   "source": [
    "import numpy as np\n",
    "import pandas as pd\n",
    "import matplotlib.pyplot as plt\n",
    "import seaborn as sns\n",
    "%matplotlib inline\n",
    "from sklearn.preprocessing import StandardScaler\n",
    "from scipy import stats\n",
    "\n",
    "import warnings \n",
    "warnings.filterwarnings(\"ignore\", category=DeprecationWarning)"
   ]
  },
  {
   "cell_type": "code",
   "execution_count": 35,
   "metadata": {},
   "outputs": [],
   "source": [
    "from sklearn.model_selection import train_test_split\n",
    "from sklearn.preprocessing import Imputer\n",
    "\n",
    "# Loading the Data\n",
    "data = pd.read_csv('../data/train_new.csv')\n",
    "data_test = pd.read_csv('../data/test_new.csv')"
   ]
  },
  {
   "cell_type": "code",
   "execution_count": 6,
   "metadata": {},
   "outputs": [
    {
     "data": {
      "text/plain": [
       "Id                       int64\n",
       "MSSubClass               int64\n",
       "LotArea                  int64\n",
       "OverallQual              int64\n",
       "OverallCond              int64\n",
       "YearBuilt                int64\n",
       "YearRemodAdd             int64\n",
       "BsmtFinSF1               int64\n",
       "BsmtFinSF2               int64\n",
       "BsmtUnfSF                int64\n",
       "TotalBsmtSF              int64\n",
       "1stFlrSF                 int64\n",
       "2ndFlrSF                 int64\n",
       "LowQualFinSF             int64\n",
       "GrLivArea                int64\n",
       "BsmtFullBath             int64\n",
       "BsmtHalfBath             int64\n",
       "FullBath                 int64\n",
       "HalfBath                 int64\n",
       "BedroomAbvGr             int64\n",
       "KitchenAbvGr             int64\n",
       "TotRmsAbvGrd             int64\n",
       "Fireplaces               int64\n",
       "GarageCars               int64\n",
       "GarageArea               int64\n",
       "WoodDeckSF               int64\n",
       "OpenPorchSF              int64\n",
       "EnclosedPorch            int64\n",
       "3SsnPorch                int64\n",
       "ScreenPorch              int64\n",
       "                         ...  \n",
       "Electrical_SBrkr         int64\n",
       "KitchenQual_Ex           int64\n",
       "KitchenQual_Fa           int64\n",
       "KitchenQual_Gd           int64\n",
       "KitchenQual_TA           int64\n",
       "Functional_Maj1          int64\n",
       "Functional_Maj2          int64\n",
       "Functional_Min1          int64\n",
       "Functional_Min2          int64\n",
       "Functional_Mod           int64\n",
       "Functional_Sev           int64\n",
       "Functional_Typ           int64\n",
       "PavedDrive_N             int64\n",
       "PavedDrive_P             int64\n",
       "PavedDrive_Y             int64\n",
       "SaleType_COD             int64\n",
       "SaleType_CWD             int64\n",
       "SaleType_Con             int64\n",
       "SaleType_ConLD           int64\n",
       "SaleType_ConLI           int64\n",
       "SaleType_ConLw           int64\n",
       "SaleType_New             int64\n",
       "SaleType_Oth             int64\n",
       "SaleType_WD              int64\n",
       "SaleCondition_Abnorml    int64\n",
       "SaleCondition_AdjLand    int64\n",
       "SaleCondition_Alloca     int64\n",
       "SaleCondition_Family     int64\n",
       "SaleCondition_Normal     int64\n",
       "SaleCondition_Partial    int64\n",
       "Length: 223, dtype: object"
      ]
     },
     "execution_count": 6,
     "metadata": {},
     "output_type": "execute_result"
    }
   ],
   "source": [
    "data.dtypes"
   ]
  },
  {
   "cell_type": "code",
   "execution_count": 50,
   "metadata": {},
   "outputs": [],
   "source": [
    "# data.dropna(axis=0, subset=['SalePrice'], inplace=True)\n",
    "X = data.drop(['SalePrice','Id'], axis=1)\n",
    "y = data.SalePrice\n",
    "# X_test = data_test.drop(['Id'], axis = 1)\n",
    "train_X, test_X, train_y, test_y = train_test_split(X.as_matrix(), y.as_matrix(), test_size=0.25)"
   ]
  },
  {
   "cell_type": "code",
   "execution_count": 8,
   "metadata": {},
   "outputs": [],
   "source": [
    "my_imputer = Imputer()\n",
    "train_X = my_imputer.fit_transform(X_train)\n",
    "test_X = my_imputer.transform(test_X)"
   ]
  },
  {
   "cell_type": "code",
   "execution_count": 9,
   "metadata": {},
   "outputs": [
    {
     "data": {
      "text/plain": [
       "XGBRegressor(base_score=0.5, booster='gbtree', colsample_bylevel=1,\n",
       "       colsample_bytree=1, gamma=0, importance_type='gain',\n",
       "       learning_rate=0.1, max_delta_step=0, max_depth=3,\n",
       "       min_child_weight=1, missing=None, n_estimators=100, n_jobs=1,\n",
       "       nthread=None, objective='reg:linear', random_state=0, reg_alpha=0,\n",
       "       reg_lambda=1, scale_pos_weight=1, seed=None, silent=True,\n",
       "       subsample=1)"
      ]
     },
     "execution_count": 9,
     "metadata": {},
     "output_type": "execute_result"
    }
   ],
   "source": [
    "from xgboost import XGBRegressor\n",
    "\n",
    "XGBmodel = XGBRegressor()\n",
    "# Add silent=True to avoid printing out updates with each cycle\n",
    "XGBmodel.fit(train_X, train_y, verbose=False)"
   ]
  },
  {
   "cell_type": "code",
   "execution_count": 10,
   "metadata": {},
   "outputs": [],
   "source": [
    "y_pred = XGBmodel.predict(test_X)"
   ]
  },
  {
   "cell_type": "code",
   "execution_count": 11,
   "metadata": {},
   "outputs": [
    {
     "data": {
      "text/plain": [
       "511295592.8869042"
      ]
     },
     "execution_count": 11,
     "metadata": {},
     "output_type": "execute_result"
    }
   ],
   "source": [
    "from sklearn.metrics import mean_squared_error\n",
    "mean_squared_error(y_pred, test_y)"
   ]
  },
  {
   "cell_type": "code",
   "execution_count": 12,
   "metadata": {},
   "outputs": [
    {
     "data": {
      "text/plain": [
       "XGBRegressor(base_score=0.5, booster='gbtree', colsample_bylevel=1,\n",
       "       colsample_bytree=1, gamma=0, importance_type='gain',\n",
       "       learning_rate=0.05, max_delta_step=0, max_depth=3,\n",
       "       min_child_weight=1, missing=None, n_estimators=1000, n_jobs=1,\n",
       "       nthread=None, objective='reg:linear', random_state=0, reg_alpha=0,\n",
       "       reg_lambda=1, scale_pos_weight=1, seed=None, silent=True,\n",
       "       subsample=1)"
      ]
     },
     "execution_count": 12,
     "metadata": {},
     "output_type": "execute_result"
    }
   ],
   "source": [
    "XGBmodel2 = XGBRegressor(n_estimators=1000, learning_rate=0.05  )\n",
    "XGBmodel2.fit(train_X, train_y, early_stopping_rounds=5, \n",
    "             eval_set=[(test_X, test_y)], verbose=False)"
   ]
  },
  {
   "cell_type": "code",
   "execution_count": 13,
   "metadata": {},
   "outputs": [],
   "source": [
    "y_pred2 = XGBmodel2.predict(test_X)"
   ]
  },
  {
   "cell_type": "code",
   "execution_count": 14,
   "metadata": {},
   "outputs": [
    {
     "data": {
      "text/plain": [
       "array([176898.06,  99049.28, 159109.92, 352339.94, 165681.72, 127725.89,\n",
       "       147076.94, 122182.78, 135999.62, 178042.2 ], dtype=float32)"
      ]
     },
     "execution_count": 14,
     "metadata": {},
     "output_type": "execute_result"
    }
   ],
   "source": [
    "y_pred2[0:10]"
   ]
  },
  {
   "cell_type": "code",
   "execution_count": 15,
   "metadata": {},
   "outputs": [
    {
     "data": {
      "text/plain": [
       "550226505.8692629"
      ]
     },
     "execution_count": 15,
     "metadata": {},
     "output_type": "execute_result"
    }
   ],
   "source": [
    "# from sklearn.metrics import mean_squared_error\n",
    "mean_squared_error(y_pred2, test_y)"
   ]
  },
  {
   "cell_type": "code",
   "execution_count": 16,
   "metadata": {},
   "outputs": [
    {
     "data": {
      "text/plain": [
       "XGBRegressor(base_score=0.5, booster='gbtree', colsample_bylevel=1,\n",
       "       colsample_bytree=1, gamma=0, importance_type='gain',\n",
       "       learning_rate=0.2, max_delta_step=0, max_depth=2,\n",
       "       min_child_weight=1, missing=None, n_estimators=1500, n_jobs=1,\n",
       "       nthread=None, objective='reg:linear', random_state=0, reg_alpha=0,\n",
       "       reg_lambda=1, scale_pos_weight=1, seed=None, silent=True,\n",
       "       subsample=1)"
      ]
     },
     "execution_count": 16,
     "metadata": {},
     "output_type": "execute_result"
    }
   ],
   "source": [
    "XGBmodel3 = XGBRegressor(n_estimators=1500, learning_rate=0.2, max_depth = 2)\n",
    "XGBmodel3.fit(train_X, train_y, early_stopping_rounds=5, \n",
    "             eval_set=[(test_X, test_y)], verbose=False)"
   ]
  },
  {
   "cell_type": "code",
   "execution_count": 17,
   "metadata": {},
   "outputs": [],
   "source": [
    "y_pred3 = XGBmodel3.predict(test_X)\n",
    "\n",
    "# y_pred2[0:10]\n",
    "# import numpy as np\n",
    "# from sklearn.metrics import mean_squared_error\n"
   ]
  },
  {
   "cell_type": "code",
   "execution_count": 18,
   "metadata": {},
   "outputs": [
    {
     "name": "stdout",
     "output_type": "stream",
     "text": [
      "Mean Absolute Error Of Model 3: 15729.042872431506\n",
      "Mean Absolute Error Of Model 2: 15434.737714041095\n",
      "Mean Absolute Error Of Model 1: 15385.069402825342\n"
     ]
    }
   ],
   "source": [
    "from sklearn.metrics import mean_absolute_error\n",
    "print(\"Mean Absolute Error Of Model 3: \" + str(mean_absolute_error(y_pred3, test_y)))\n",
    "print(\"Mean Absolute Error Of Model 2: \" + str(mean_absolute_error(y_pred2, test_y)))\n",
    "print(\"Mean Absolute Error Of Model 1: \" + str(mean_absolute_error(y_pred, test_y)))"
   ]
  },
  {
   "cell_type": "code",
   "execution_count": null,
   "metadata": {},
   "outputs": [],
   "source": []
  },
  {
   "cell_type": "code",
   "execution_count": null,
   "metadata": {},
   "outputs": [],
   "source": []
  },
  {
   "cell_type": "code",
   "execution_count": null,
   "metadata": {},
   "outputs": [],
   "source": []
  }
 ],
 "metadata": {
  "kernelspec": {
   "display_name": "Python 3",
   "language": "python",
   "name": "python3"
  },
  "language_info": {
   "codemirror_mode": {
    "name": "ipython",
    "version": 3
   },
   "file_extension": ".py",
   "mimetype": "text/x-python",
   "name": "python",
   "nbconvert_exporter": "python",
   "pygments_lexer": "ipython3",
   "version": "3.7.1"
  }
 },
 "nbformat": 4,
 "nbformat_minor": 2
}
